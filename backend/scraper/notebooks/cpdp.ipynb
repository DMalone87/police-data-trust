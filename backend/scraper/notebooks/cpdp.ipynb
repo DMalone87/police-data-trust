{
 "cells": [
  {
   "cell_type": "markdown",
   "metadata": {},
   "source": [
    "# Loading CPDP Data Into the NPDC Index\n",
    "\n",
    "This notebook processes the `unified_data` from [chicago-police-data](https://github.com/invinst/chicago-police-data/tree/master/data) as well as geocoding data and loads it into the NPDC index database.\n",
    "\n",
    "Data is only inserted once, so it's safe to run this multiple times.\n",
    "\n",
    "## Setup\n",
    "\n",
    "Install project dependencies and Jupyter:\n",
    "\n",
    "```bash\n",
    "pip3 install jupyter\n",
    "pip3 install -r requirements/dev_unix.txt\n",
    "```\n",
    "\n",
    "`unified_data_path` should point to the `unified_data` directory of the `chicago-police-data` repo, by default it is checked out to `<root>/chicago-police-data`:\n",
    "\n",
    "```bash\n",
    "git clone https://github.com/invinst/chicago-police-data.git\n",
    "```\n",
    "\n",
    "The database should be running and the tables should be up to date. You can use docker to reset the application to a clean state: \n",
    "\n",
    "```bash\n",
    "# Stop services and remove volumes, rebuild images, start the database, create tables, run seeds, and follow logs\n",
    "docker-compose down -v && docker-compose up --build -d db api && docker-compose logs -f\n",
    "```\n",
    "\n",
    "Then open the notebook with either [VSCode](https://code.visualstudio.com/) or `jupyter notebook`.\n",
    "\n",
    "You can run the notebook from the command line as well:\n",
    "\n",
    "```bash\n",
    "jupyter nbconvert --to notebook --execute backend/scraper/cpdp.ipynb --output cpdp\n",
    "```"
   ]
  },
  {
   "cell_type": "code",
   "execution_count": 7,
   "metadata": {
    "execution": {
     "iopub.execute_input": "2021-11-15T20:04:52.091244Z",
     "iopub.status.busy": "2021-11-15T20:04:52.090739Z",
     "iopub.status.idle": "2021-11-15T20:04:52.684721Z",
     "shell.execute_reply": "2021-11-15T20:04:52.684948Z"
    }
   },
   "outputs": [
    {
     "name": "stdout",
     "output_type": "stream",
     "text": [
      "/Users/brianrennie/Documents/GitHub/police-data-trust\n",
      "/Users/brianrennie/Documents/GitHub/police-data-trust\n"
     ]
    }
   ],
   "source": [
    "print(os.getcwd())\n",
    "import os\n",
    "if os.getcwd().endswith(\"notebooks\"):\n",
    "    # Run this notebook from the repo root\n",
    "    os.chdir(\"../../..\")\n",
    "import sys\n",
    "import math\n",
    "import numpy as np\n",
    "import pandas as pd\n",
    "import sqlalchemy\n",
    "import psycopg2\n",
    "from IPython.display import display, HTML\n",
    "from collections import namedtuple\n",
    "from backend.database import db, Incident, Officer, Accusation, Victim\n",
    "from backend.database import *\n",
    "print(os.getcwd())\n"
   ]
  },
  {
   "cell_type": "code",
   "execution_count": 8,
   "metadata": {
    "execution": {
     "iopub.execute_input": "2021-11-15T20:04:52.688209Z",
     "iopub.status.busy": "2021-11-15T20:04:52.687929Z",
     "iopub.status.idle": "2021-11-15T20:04:52.787715Z",
     "shell.execute_reply": "2021-11-15T20:04:52.787455Z"
    }
   },
   "outputs": [],
   "source": [
    "from backend.api import create_app\n",
    "app = create_app(\"development\")\n",
    "\n",
    "unified_data_path = \"backend/scraper/notebooks/chicago-police-data/data/unified_data\"\n",
    "if not os.path.exists(unified_data_path):\n",
    "    raise Exception(f\"{unified_data_path} does not exist. It should point to the unified_data folder of the chicago-police-data repo.\")"
   ]
  },
  {
   "cell_type": "markdown",
   "metadata": {},
   "source": [
    "## Read Data Files\n",
    "\n",
    "Data is organized into CSV's under `data/unified_data`. CSV file naming is described in `data/README.md`. CSV columns are described in `data/unified_data/data-dictionary/data-dictionary.yaml` as well as `data/complaints_general-summary.html`"
   ]
  },
  {
   "cell_type": "code",
   "execution_count": 9,
   "metadata": {
    "execution": {
     "iopub.execute_input": "2021-11-15T20:04:52.793440Z",
     "iopub.status.busy": "2021-11-15T20:04:52.793095Z",
     "iopub.status.idle": "2021-11-15T20:04:54.386718Z",
     "shell.execute_reply": "2021-11-15T20:04:54.386425Z"
    }
   },
   "outputs": [
    {
     "ename": "FileNotFoundError",
     "evalue": "[Errno 2] No such file or directory: 'backend/scraper/notebooks/chicago-police-data/data/unified_data/complaints/complaints-complaints.csv.gz'",
     "output_type": "error",
     "traceback": [
      "\u001b[0;31m---------------------------------------------------------------------------\u001b[0m",
      "\u001b[0;31mFileNotFoundError\u001b[0m                         Traceback (most recent call last)",
      "\u001b[1;32m/Users/brianrennie/Documents/GitHub/police-data-trust/backend/scraper/notebooks/cpdp.ipynb Cell 5'\u001b[0m in \u001b[0;36m<cell line: 38>\u001b[0;34m()\u001b[0m\n\u001b[1;32m     <a href='vscode-notebook-cell:/Users/brianrennie/Documents/GitHub/police-data-trust/backend/scraper/notebooks/cpdp.ipynb#ch0000004?line=33'>34</a>\u001b[0m     \u001b[39massert\u001b[39;00m df[column]\u001b[39m.\u001b[39misnull()\u001b[39m.\u001b[39mvalues\u001b[39m.\u001b[39msum() \u001b[39m==\u001b[39m \u001b[39m0\u001b[39m\n\u001b[1;32m     <a href='vscode-notebook-cell:/Users/brianrennie/Documents/GitHub/police-data-trust/backend/scraper/notebooks/cpdp.ipynb#ch0000004?line=36'>37</a>\u001b[0m \u001b[39m# Each record is one complaint, primary key cr_id\u001b[39;00m\n\u001b[0;32m---> <a href='vscode-notebook-cell:/Users/brianrennie/Documents/GitHub/police-data-trust/backend/scraper/notebooks/cpdp.ipynb#ch0000004?line=37'>38</a>\u001b[0m complaints \u001b[39m=\u001b[39m read_complaint(\u001b[39m\"\u001b[39;49m\u001b[39mcomplaints\u001b[39;49m\u001b[39m\"\u001b[39;49m)\u001b[39m.\u001b[39mset_index(\n\u001b[1;32m     <a href='vscode-notebook-cell:/Users/brianrennie/Documents/GitHub/police-data-trust/backend/scraper/notebooks/cpdp.ipynb#ch0000004?line=38'>39</a>\u001b[0m     \u001b[39m\"\u001b[39m\u001b[39mcr_id\u001b[39m\u001b[39m\"\u001b[39m, drop\u001b[39m=\u001b[39m\u001b[39mFalse\u001b[39;00m, verify_integrity\u001b[39m=\u001b[39m\u001b[39mTrue\u001b[39;00m\n\u001b[1;32m     <a href='vscode-notebook-cell:/Users/brianrennie/Documents/GitHub/police-data-trust/backend/scraper/notebooks/cpdp.ipynb#ch0000004?line=39'>40</a>\u001b[0m )\n\u001b[1;32m     <a href='vscode-notebook-cell:/Users/brianrennie/Documents/GitHub/police-data-trust/backend/scraper/notebooks/cpdp.ipynb#ch0000004?line=41'>42</a>\u001b[0m \u001b[39m# Each record is an officer, deduplicated across data sources, primary key UID\u001b[39;00m\n\u001b[1;32m     <a href='vscode-notebook-cell:/Users/brianrennie/Documents/GitHub/police-data-trust/backend/scraper/notebooks/cpdp.ipynb#ch0000004?line=42'>43</a>\u001b[0m profiles \u001b[39m=\u001b[39m read_csv(\u001b[39m\"\u001b[39m\u001b[39mprofiles\u001b[39m\u001b[39m\"\u001b[39m, \u001b[39m\"\u001b[39m\u001b[39mfinal-profiles.csv.gz\u001b[39m\u001b[39m\"\u001b[39m)\u001b[39m.\u001b[39mset_index(\n\u001b[1;32m     <a href='vscode-notebook-cell:/Users/brianrennie/Documents/GitHub/police-data-trust/backend/scraper/notebooks/cpdp.ipynb#ch0000004?line=43'>44</a>\u001b[0m     \u001b[39m\"\u001b[39m\u001b[39mUID\u001b[39m\u001b[39m\"\u001b[39m, drop\u001b[39m=\u001b[39m\u001b[39mFalse\u001b[39;00m, verify_integrity\u001b[39m=\u001b[39m\u001b[39mTrue\u001b[39;00m\n\u001b[1;32m     <a href='vscode-notebook-cell:/Users/brianrennie/Documents/GitHub/police-data-trust/backend/scraper/notebooks/cpdp.ipynb#ch0000004?line=44'>45</a>\u001b[0m )\n",
      "\u001b[1;32m/Users/brianrennie/Documents/GitHub/police-data-trust/backend/scraper/notebooks/cpdp.ipynb Cell 5'\u001b[0m in \u001b[0;36mread_complaint\u001b[0;34m(name)\u001b[0m\n\u001b[1;32m     <a href='vscode-notebook-cell:/Users/brianrennie/Documents/GitHub/police-data-trust/backend/scraper/notebooks/cpdp.ipynb#ch0000004?line=28'>29</a>\u001b[0m \u001b[39mdef\u001b[39;00m \u001b[39mread_complaint\u001b[39m(name):\n\u001b[0;32m---> <a href='vscode-notebook-cell:/Users/brianrennie/Documents/GitHub/police-data-trust/backend/scraper/notebooks/cpdp.ipynb#ch0000004?line=29'>30</a>\u001b[0m     \u001b[39mreturn\u001b[39;00m read_csv(\u001b[39m\"\u001b[39;49m\u001b[39mcomplaints\u001b[39;49m\u001b[39m\"\u001b[39;49m, \u001b[39mf\u001b[39;49m\u001b[39m\"\u001b[39;49m\u001b[39mcomplaints-\u001b[39;49m\u001b[39m{\u001b[39;49;00mname\u001b[39m}\u001b[39;49;00m\u001b[39m.csv.gz\u001b[39;49m\u001b[39m\"\u001b[39;49m)\n",
      "\u001b[1;32m/Users/brianrennie/Documents/GitHub/police-data-trust/backend/scraper/notebooks/cpdp.ipynb Cell 5'\u001b[0m in \u001b[0;36mread_csv\u001b[0;34m(*path)\u001b[0m\n\u001b[1;32m     <a href='vscode-notebook-cell:/Users/brianrennie/Documents/GitHub/police-data-trust/backend/scraper/notebooks/cpdp.ipynb#ch0000004?line=12'>13</a>\u001b[0m \u001b[39mdef\u001b[39;00m \u001b[39mread_csv\u001b[39m(\u001b[39m*\u001b[39mpath):\n\u001b[0;32m---> <a href='vscode-notebook-cell:/Users/brianrennie/Documents/GitHub/police-data-trust/backend/scraper/notebooks/cpdp.ipynb#ch0000004?line=13'>14</a>\u001b[0m     \u001b[39mreturn\u001b[39;00m pd\u001b[39m.\u001b[39;49mread_csv(\n\u001b[1;32m     <a href='vscode-notebook-cell:/Users/brianrennie/Documents/GitHub/police-data-trust/backend/scraper/notebooks/cpdp.ipynb#ch0000004?line=14'>15</a>\u001b[0m         data_path(\u001b[39m*\u001b[39;49mpath),\n\u001b[1;32m     <a href='vscode-notebook-cell:/Users/brianrennie/Documents/GitHub/police-data-trust/backend/scraper/notebooks/cpdp.ipynb#ch0000004?line=15'>16</a>\u001b[0m         dtype\u001b[39m=\u001b[39;49m{\n\u001b[1;32m     <a href='vscode-notebook-cell:/Users/brianrennie/Documents/GitHub/police-data-trust/backend/scraper/notebooks/cpdp.ipynb#ch0000004?line=16'>17</a>\u001b[0m             \u001b[39m\"\u001b[39;49m\u001b[39mcr_id\u001b[39;49m\u001b[39m\"\u001b[39;49m: \u001b[39mstr\u001b[39;49m,\n\u001b[1;32m     <a href='vscode-notebook-cell:/Users/brianrennie/Documents/GitHub/police-data-trust/backend/scraper/notebooks/cpdp.ipynb#ch0000004?line=17'>18</a>\u001b[0m         },\n\u001b[1;32m     <a href='vscode-notebook-cell:/Users/brianrennie/Documents/GitHub/police-data-trust/backend/scraper/notebooks/cpdp.ipynb#ch0000004?line=18'>19</a>\u001b[0m         converters\u001b[39m=\u001b[39;49m{\n\u001b[1;32m     <a href='vscode-notebook-cell:/Users/brianrennie/Documents/GitHub/police-data-trust/backend/scraper/notebooks/cpdp.ipynb#ch0000004?line=19'>20</a>\u001b[0m             \u001b[39m\"\u001b[39;49m\u001b[39mlink_UID\u001b[39;49m\u001b[39m\"\u001b[39;49m: float_to_int_str,\n\u001b[1;32m     <a href='vscode-notebook-cell:/Users/brianrennie/Documents/GitHub/police-data-trust/backend/scraper/notebooks/cpdp.ipynb#ch0000004?line=20'>21</a>\u001b[0m             \u001b[39m\"\u001b[39;49m\u001b[39mbirth_year\u001b[39;49m\u001b[39m\"\u001b[39;49m: float_to_int_str,\n\u001b[1;32m     <a href='vscode-notebook-cell:/Users/brianrennie/Documents/GitHub/police-data-trust/backend/scraper/notebooks/cpdp.ipynb#ch0000004?line=21'>22</a>\u001b[0m             \u001b[39m\"\u001b[39;49m\u001b[39minvestigator_ID\u001b[39;49m\u001b[39m\"\u001b[39;49m: float_to_int_str,\n\u001b[1;32m     <a href='vscode-notebook-cell:/Users/brianrennie/Documents/GitHub/police-data-trust/backend/scraper/notebooks/cpdp.ipynb#ch0000004?line=22'>23</a>\u001b[0m             \u001b[39m\"\u001b[39;49m\u001b[39mUID\u001b[39;49m\u001b[39m\"\u001b[39;49m: float_to_int_str,\n\u001b[1;32m     <a href='vscode-notebook-cell:/Users/brianrennie/Documents/GitHub/police-data-trust/backend/scraper/notebooks/cpdp.ipynb#ch0000004?line=23'>24</a>\u001b[0m         },\n\u001b[1;32m     <a href='vscode-notebook-cell:/Users/brianrennie/Documents/GitHub/police-data-trust/backend/scraper/notebooks/cpdp.ipynb#ch0000004?line=24'>25</a>\u001b[0m         low_memory\u001b[39m=\u001b[39;49m\u001b[39mFalse\u001b[39;49;00m,\n\u001b[1;32m     <a href='vscode-notebook-cell:/Users/brianrennie/Documents/GitHub/police-data-trust/backend/scraper/notebooks/cpdp.ipynb#ch0000004?line=25'>26</a>\u001b[0m     )\n",
      "File \u001b[0;32m~/Documents/GitHub/police-data-trust/.pdt/lib/python3.9/site-packages/pandas/util/_decorators.py:311\u001b[0m, in \u001b[0;36mdeprecate_nonkeyword_arguments.<locals>.decorate.<locals>.wrapper\u001b[0;34m(*args, **kwargs)\u001b[0m\n\u001b[1;32m    305\u001b[0m \u001b[39mif\u001b[39;00m \u001b[39mlen\u001b[39m(args) \u001b[39m>\u001b[39m num_allow_args:\n\u001b[1;32m    306\u001b[0m     warnings\u001b[39m.\u001b[39mwarn(\n\u001b[1;32m    307\u001b[0m         msg\u001b[39m.\u001b[39mformat(arguments\u001b[39m=\u001b[39marguments),\n\u001b[1;32m    308\u001b[0m         \u001b[39mFutureWarning\u001b[39;00m,\n\u001b[1;32m    309\u001b[0m         stacklevel\u001b[39m=\u001b[39mstacklevel,\n\u001b[1;32m    310\u001b[0m     )\n\u001b[0;32m--> 311\u001b[0m \u001b[39mreturn\u001b[39;00m func(\u001b[39m*\u001b[39;49margs, \u001b[39m*\u001b[39;49m\u001b[39m*\u001b[39;49mkwargs)\n",
      "File \u001b[0;32m~/Documents/GitHub/police-data-trust/.pdt/lib/python3.9/site-packages/pandas/io/parsers/readers.py:586\u001b[0m, in \u001b[0;36mread_csv\u001b[0;34m(filepath_or_buffer, sep, delimiter, header, names, index_col, usecols, squeeze, prefix, mangle_dupe_cols, dtype, engine, converters, true_values, false_values, skipinitialspace, skiprows, skipfooter, nrows, na_values, keep_default_na, na_filter, verbose, skip_blank_lines, parse_dates, infer_datetime_format, keep_date_col, date_parser, dayfirst, cache_dates, iterator, chunksize, compression, thousands, decimal, lineterminator, quotechar, quoting, doublequote, escapechar, comment, encoding, encoding_errors, dialect, error_bad_lines, warn_bad_lines, on_bad_lines, delim_whitespace, low_memory, memory_map, float_precision, storage_options)\u001b[0m\n\u001b[1;32m    571\u001b[0m kwds_defaults \u001b[39m=\u001b[39m _refine_defaults_read(\n\u001b[1;32m    572\u001b[0m     dialect,\n\u001b[1;32m    573\u001b[0m     delimiter,\n\u001b[0;32m   (...)\u001b[0m\n\u001b[1;32m    582\u001b[0m     defaults\u001b[39m=\u001b[39m{\u001b[39m\"\u001b[39m\u001b[39mdelimiter\u001b[39m\u001b[39m\"\u001b[39m: \u001b[39m\"\u001b[39m\u001b[39m,\u001b[39m\u001b[39m\"\u001b[39m},\n\u001b[1;32m    583\u001b[0m )\n\u001b[1;32m    584\u001b[0m kwds\u001b[39m.\u001b[39mupdate(kwds_defaults)\n\u001b[0;32m--> 586\u001b[0m \u001b[39mreturn\u001b[39;00m _read(filepath_or_buffer, kwds)\n",
      "File \u001b[0;32m~/Documents/GitHub/police-data-trust/.pdt/lib/python3.9/site-packages/pandas/io/parsers/readers.py:482\u001b[0m, in \u001b[0;36m_read\u001b[0;34m(filepath_or_buffer, kwds)\u001b[0m\n\u001b[1;32m    479\u001b[0m _validate_names(kwds\u001b[39m.\u001b[39mget(\u001b[39m\"\u001b[39m\u001b[39mnames\u001b[39m\u001b[39m\"\u001b[39m, \u001b[39mNone\u001b[39;00m))\n\u001b[1;32m    481\u001b[0m \u001b[39m# Create the parser.\u001b[39;00m\n\u001b[0;32m--> 482\u001b[0m parser \u001b[39m=\u001b[39m TextFileReader(filepath_or_buffer, \u001b[39m*\u001b[39;49m\u001b[39m*\u001b[39;49mkwds)\n\u001b[1;32m    484\u001b[0m \u001b[39mif\u001b[39;00m chunksize \u001b[39mor\u001b[39;00m iterator:\n\u001b[1;32m    485\u001b[0m     \u001b[39mreturn\u001b[39;00m parser\n",
      "File \u001b[0;32m~/Documents/GitHub/police-data-trust/.pdt/lib/python3.9/site-packages/pandas/io/parsers/readers.py:811\u001b[0m, in \u001b[0;36mTextFileReader.__init__\u001b[0;34m(self, f, engine, **kwds)\u001b[0m\n\u001b[1;32m    808\u001b[0m \u001b[39mif\u001b[39;00m \u001b[39m\"\u001b[39m\u001b[39mhas_index_names\u001b[39m\u001b[39m\"\u001b[39m \u001b[39min\u001b[39;00m kwds:\n\u001b[1;32m    809\u001b[0m     \u001b[39mself\u001b[39m\u001b[39m.\u001b[39moptions[\u001b[39m\"\u001b[39m\u001b[39mhas_index_names\u001b[39m\u001b[39m\"\u001b[39m] \u001b[39m=\u001b[39m kwds[\u001b[39m\"\u001b[39m\u001b[39mhas_index_names\u001b[39m\u001b[39m\"\u001b[39m]\n\u001b[0;32m--> 811\u001b[0m \u001b[39mself\u001b[39m\u001b[39m.\u001b[39m_engine \u001b[39m=\u001b[39m \u001b[39mself\u001b[39;49m\u001b[39m.\u001b[39;49m_make_engine(\u001b[39mself\u001b[39;49m\u001b[39m.\u001b[39;49mengine)\n",
      "File \u001b[0;32m~/Documents/GitHub/police-data-trust/.pdt/lib/python3.9/site-packages/pandas/io/parsers/readers.py:1040\u001b[0m, in \u001b[0;36mTextFileReader._make_engine\u001b[0;34m(self, engine)\u001b[0m\n\u001b[1;32m   1036\u001b[0m     \u001b[39mraise\u001b[39;00m \u001b[39mValueError\u001b[39;00m(\n\u001b[1;32m   1037\u001b[0m         \u001b[39mf\u001b[39m\u001b[39m\"\u001b[39m\u001b[39mUnknown engine: \u001b[39m\u001b[39m{\u001b[39;00mengine\u001b[39m}\u001b[39;00m\u001b[39m (valid options are \u001b[39m\u001b[39m{\u001b[39;00mmapping\u001b[39m.\u001b[39mkeys()\u001b[39m}\u001b[39;00m\u001b[39m)\u001b[39m\u001b[39m\"\u001b[39m\n\u001b[1;32m   1038\u001b[0m     )\n\u001b[1;32m   1039\u001b[0m \u001b[39m# error: Too many arguments for \"ParserBase\"\u001b[39;00m\n\u001b[0;32m-> 1040\u001b[0m \u001b[39mreturn\u001b[39;00m mapping[engine](\u001b[39mself\u001b[39;49m\u001b[39m.\u001b[39;49mf, \u001b[39m*\u001b[39;49m\u001b[39m*\u001b[39;49m\u001b[39mself\u001b[39;49m\u001b[39m.\u001b[39;49moptions)\n",
      "File \u001b[0;32m~/Documents/GitHub/police-data-trust/.pdt/lib/python3.9/site-packages/pandas/io/parsers/c_parser_wrapper.py:51\u001b[0m, in \u001b[0;36mCParserWrapper.__init__\u001b[0;34m(self, src, **kwds)\u001b[0m\n\u001b[1;32m     48\u001b[0m kwds[\u001b[39m\"\u001b[39m\u001b[39musecols\u001b[39m\u001b[39m\"\u001b[39m] \u001b[39m=\u001b[39m \u001b[39mself\u001b[39m\u001b[39m.\u001b[39musecols\n\u001b[1;32m     50\u001b[0m \u001b[39m# open handles\u001b[39;00m\n\u001b[0;32m---> 51\u001b[0m \u001b[39mself\u001b[39;49m\u001b[39m.\u001b[39;49m_open_handles(src, kwds)\n\u001b[1;32m     52\u001b[0m \u001b[39massert\u001b[39;00m \u001b[39mself\u001b[39m\u001b[39m.\u001b[39mhandles \u001b[39mis\u001b[39;00m \u001b[39mnot\u001b[39;00m \u001b[39mNone\u001b[39;00m\n\u001b[1;32m     54\u001b[0m \u001b[39m# Have to pass int, would break tests using TextReader directly otherwise :(\u001b[39;00m\n",
      "File \u001b[0;32m~/Documents/GitHub/police-data-trust/.pdt/lib/python3.9/site-packages/pandas/io/parsers/base_parser.py:222\u001b[0m, in \u001b[0;36mParserBase._open_handles\u001b[0;34m(self, src, kwds)\u001b[0m\n\u001b[1;32m    218\u001b[0m \u001b[39mdef\u001b[39;00m \u001b[39m_open_handles\u001b[39m(\u001b[39mself\u001b[39m, src: FilePathOrBuffer, kwds: \u001b[39mdict\u001b[39m[\u001b[39mstr\u001b[39m, Any]) \u001b[39m-\u001b[39m\u001b[39m>\u001b[39m \u001b[39mNone\u001b[39;00m:\n\u001b[1;32m    219\u001b[0m     \u001b[39m\"\"\"\u001b[39;00m\n\u001b[1;32m    220\u001b[0m \u001b[39m    Let the readers open IOHandles after they are done with their potential raises.\u001b[39;00m\n\u001b[1;32m    221\u001b[0m \u001b[39m    \"\"\"\u001b[39;00m\n\u001b[0;32m--> 222\u001b[0m     \u001b[39mself\u001b[39m\u001b[39m.\u001b[39mhandles \u001b[39m=\u001b[39m get_handle(\n\u001b[1;32m    223\u001b[0m         src,\n\u001b[1;32m    224\u001b[0m         \u001b[39m\"\u001b[39;49m\u001b[39mr\u001b[39;49m\u001b[39m\"\u001b[39;49m,\n\u001b[1;32m    225\u001b[0m         encoding\u001b[39m=\u001b[39;49mkwds\u001b[39m.\u001b[39;49mget(\u001b[39m\"\u001b[39;49m\u001b[39mencoding\u001b[39;49m\u001b[39m\"\u001b[39;49m, \u001b[39mNone\u001b[39;49;00m),\n\u001b[1;32m    226\u001b[0m         compression\u001b[39m=\u001b[39;49mkwds\u001b[39m.\u001b[39;49mget(\u001b[39m\"\u001b[39;49m\u001b[39mcompression\u001b[39;49m\u001b[39m\"\u001b[39;49m, \u001b[39mNone\u001b[39;49;00m),\n\u001b[1;32m    227\u001b[0m         memory_map\u001b[39m=\u001b[39;49mkwds\u001b[39m.\u001b[39;49mget(\u001b[39m\"\u001b[39;49m\u001b[39mmemory_map\u001b[39;49m\u001b[39m\"\u001b[39;49m, \u001b[39mFalse\u001b[39;49;00m),\n\u001b[1;32m    228\u001b[0m         storage_options\u001b[39m=\u001b[39;49mkwds\u001b[39m.\u001b[39;49mget(\u001b[39m\"\u001b[39;49m\u001b[39mstorage_options\u001b[39;49m\u001b[39m\"\u001b[39;49m, \u001b[39mNone\u001b[39;49;00m),\n\u001b[1;32m    229\u001b[0m         errors\u001b[39m=\u001b[39;49mkwds\u001b[39m.\u001b[39;49mget(\u001b[39m\"\u001b[39;49m\u001b[39mencoding_errors\u001b[39;49m\u001b[39m\"\u001b[39;49m, \u001b[39m\"\u001b[39;49m\u001b[39mstrict\u001b[39;49m\u001b[39m\"\u001b[39;49m),\n\u001b[1;32m    230\u001b[0m     )\n",
      "File \u001b[0;32m~/Documents/GitHub/police-data-trust/.pdt/lib/python3.9/site-packages/pandas/io/common.py:642\u001b[0m, in \u001b[0;36mget_handle\u001b[0;34m(path_or_buf, mode, encoding, compression, memory_map, is_text, errors, storage_options)\u001b[0m\n\u001b[1;32m    640\u001b[0m \u001b[39mif\u001b[39;00m is_path:\n\u001b[1;32m    641\u001b[0m     \u001b[39massert\u001b[39;00m \u001b[39misinstance\u001b[39m(handle, \u001b[39mstr\u001b[39m)\n\u001b[0;32m--> 642\u001b[0m     handle \u001b[39m=\u001b[39m gzip\u001b[39m.\u001b[39;49mGzipFile(\n\u001b[1;32m    643\u001b[0m         filename\u001b[39m=\u001b[39;49mhandle,\n\u001b[1;32m    644\u001b[0m         mode\u001b[39m=\u001b[39;49mioargs\u001b[39m.\u001b[39;49mmode,\n\u001b[1;32m    645\u001b[0m         \u001b[39m*\u001b[39;49m\u001b[39m*\u001b[39;49mcompression_args,\n\u001b[1;32m    646\u001b[0m     )\n\u001b[1;32m    647\u001b[0m \u001b[39melse\u001b[39;00m:\n\u001b[1;32m    648\u001b[0m     handle \u001b[39m=\u001b[39m gzip\u001b[39m.\u001b[39mGzipFile(\n\u001b[1;32m    649\u001b[0m         \u001b[39m# error: Argument \"fileobj\" to \"GzipFile\" has incompatible type\u001b[39;00m\n\u001b[1;32m    650\u001b[0m         \u001b[39m# \"Union[str, Union[IO[Any], RawIOBase, BufferedIOBase, TextIOBase,\u001b[39;00m\n\u001b[0;32m   (...)\u001b[0m\n\u001b[1;32m    654\u001b[0m         \u001b[39m*\u001b[39m\u001b[39m*\u001b[39mcompression_args,\n\u001b[1;32m    655\u001b[0m     )\n",
      "File \u001b[0;32m/opt/homebrew/Cellar/python@3.9/3.9.13_1/Frameworks/Python.framework/Versions/3.9/lib/python3.9/gzip.py:173\u001b[0m, in \u001b[0;36mGzipFile.__init__\u001b[0;34m(self, filename, mode, compresslevel, fileobj, mtime)\u001b[0m\n\u001b[1;32m    171\u001b[0m     mode \u001b[39m+\u001b[39m\u001b[39m=\u001b[39m \u001b[39m'\u001b[39m\u001b[39mb\u001b[39m\u001b[39m'\u001b[39m\n\u001b[1;32m    172\u001b[0m \u001b[39mif\u001b[39;00m fileobj \u001b[39mis\u001b[39;00m \u001b[39mNone\u001b[39;00m:\n\u001b[0;32m--> 173\u001b[0m     fileobj \u001b[39m=\u001b[39m \u001b[39mself\u001b[39m\u001b[39m.\u001b[39mmyfileobj \u001b[39m=\u001b[39m builtins\u001b[39m.\u001b[39;49mopen(filename, mode \u001b[39mor\u001b[39;49;00m \u001b[39m'\u001b[39;49m\u001b[39mrb\u001b[39;49m\u001b[39m'\u001b[39;49m)\n\u001b[1;32m    174\u001b[0m \u001b[39mif\u001b[39;00m filename \u001b[39mis\u001b[39;00m \u001b[39mNone\u001b[39;00m:\n\u001b[1;32m    175\u001b[0m     filename \u001b[39m=\u001b[39m \u001b[39mgetattr\u001b[39m(fileobj, \u001b[39m'\u001b[39m\u001b[39mname\u001b[39m\u001b[39m'\u001b[39m, \u001b[39m'\u001b[39m\u001b[39m'\u001b[39m)\n",
      "\u001b[0;31mFileNotFoundError\u001b[0m: [Errno 2] No such file or directory: 'backend/scraper/notebooks/chicago-police-data/data/unified_data/complaints/complaints-complaints.csv.gz'"
     ]
    }
   ],
   "source": [
    "def data_path(*args):\n",
    "    return os.path.join(unified_data_path, *args)\n",
    "\n",
    "\n",
    "def float_to_int_str(x):\n",
    "    \"\"\"Converts a floating-point string into an integer string.\n",
    "\n",
    "    Empty strings are converted to nan\n",
    "    \"\"\"\n",
    "    return str(int(float(x))) if x else math.nan\n",
    "\n",
    "\n",
    "def read_csv(*path):\n",
    "    return pd.read_csv(\n",
    "        data_path(*path),\n",
    "        dtype={\n",
    "            \"cr_id\": str,\n",
    "        },\n",
    "        converters={\n",
    "            \"link_UID\": float_to_int_str,\n",
    "            \"birth_year\": float_to_int_str,\n",
    "            \"investigator_ID\": float_to_int_str,\n",
    "            \"UID\": float_to_int_str,\n",
    "        },\n",
    "        low_memory=False,\n",
    "    )\n",
    "\n",
    "\n",
    "def read_complaint(name):\n",
    "    return read_csv(\"complaints\", f\"complaints-{name}.csv.gz\")\n",
    "\n",
    "\n",
    "def check_defined(df, column):\n",
    "    assert df[column].isnull().values.sum() == 0\n",
    "\n",
    "\n",
    "# Each record is one complaint, primary key cr_id\n",
    "complaints = read_complaint(\"complaints\").set_index(\n",
    "    \"cr_id\", drop=False, verify_integrity=True\n",
    ")\n",
    "\n",
    "# Each record is an officer, deduplicated across data sources, primary key UID\n",
    "profiles = read_csv(\"profiles\", \"final-profiles.csv.gz\").set_index(\n",
    "    \"UID\", drop=False, verify_integrity=True\n",
    ")\n",
    "\n",
    "# Each record is an accusation against one officer in one complaint, composite\n",
    "# key (cr_id, UID)\n",
    "accused = read_complaint(\"accused\").set_index(\n",
    "    [\"cr_id\", \"UID\"], drop=False, verify_integrity=True\n",
    ")\n",
    "\n",
    "# Each record is a person that filed a complaint. Many-to-1 with cr_id\n",
    "complainants = read_complaint(\"complainants\")\n",
    "check_defined(complainants, \"cr_id\")\n",
    "\n",
    "# Each record is a person assigned to investigate a particular complaint.\n",
    "# Many-to-1 with (cr_id, investigator_ID). investigator_ID includes officer\n",
    "# UID's and non-officer investigators. The same investigator may be assigned to\n",
    "# the same complaint at different times, resulting in multiple records.\n",
    "investigators = read_complaint(\"investigators\")\n",
    "check_defined(investigators, [\"cr_id\", \"investigator_ID\"])\n",
    "\n",
    "# Each record is a victim in a complaint. Many-to-1 with cr_id. victims_v3\n",
    "# contains injury information which is lost in the merged victims table.\n",
    "victims_v2 = read_complaint(\"victims_2000-2016_2016-11\")\n",
    "victims_v3 = read_complaint(\"victims_2000-2018_2018-03\")\n",
    "victims_unified = read_complaint(\"victims\")\n",
    "check_defined(victims_v2, \"cr_id\")\n",
    "check_defined(victims_v3, \"cr_id\")\n",
    "check_defined(victims_unified, \"cr_id\")\n"
   ]
  },
  {
   "cell_type": "markdown",
   "metadata": {},
   "source": [
    "## Read Geocoding Data\n",
    "\n",
    "Locations are recorded as semi-structured addresses. In order to display incidents on a map, we convert the human-readable addresses to latitude/longitude coordinates. This conversion is called Geocoding.\n",
    "\n",
    "Coordinates were not published to `chicago-police-data` but were computed by the CPDP team using Google Maps Geocoding API. They shared the geocoding results with us, stored in `cpdp_geocoded_cr.csv.gz`"
   ]
  },
  {
   "cell_type": "code",
   "execution_count": 10,
   "metadata": {
    "execution": {
     "iopub.execute_input": "2021-11-15T20:04:54.389953Z",
     "iopub.status.busy": "2021-11-15T20:04:54.389601Z",
     "iopub.status.idle": "2021-11-15T20:04:54.656861Z",
     "shell.execute_reply": "2021-11-15T20:04:54.657076Z"
    }
   },
   "outputs": [
    {
     "ename": "FileNotFoundError",
     "evalue": "[Errno 2] No such file or directory: 'backend/scraper/cpdp_geocoded_cr.csv.gz'",
     "output_type": "error",
     "traceback": [
      "\u001b[0;31m---------------------------------------------------------------------------\u001b[0m",
      "\u001b[0;31mFileNotFoundError\u001b[0m                         Traceback (most recent call last)",
      "\u001b[1;32m/Users/brianrennie/Documents/GitHub/police-data-trust/backend/scraper/notebooks/cpdp.ipynb Cell 7'\u001b[0m in \u001b[0;36m<cell line: 1>\u001b[0;34m()\u001b[0m\n\u001b[0;32m----> <a href='vscode-notebook-cell:/Users/brianrennie/Documents/GitHub/police-data-trust/backend/scraper/notebooks/cpdp.ipynb#ch0000006?line=0'>1</a>\u001b[0m csv \u001b[39m=\u001b[39m pd\u001b[39m.\u001b[39;49mread_csv(\n\u001b[1;32m      <a href='vscode-notebook-cell:/Users/brianrennie/Documents/GitHub/police-data-trust/backend/scraper/notebooks/cpdp.ipynb#ch0000006?line=1'>2</a>\u001b[0m     \u001b[39m\"\u001b[39;49m\u001b[39mbackend/scraper/cpdp_geocoded_cr.csv.gz\u001b[39;49m\u001b[39m\"\u001b[39;49m,\n\u001b[1;32m      <a href='vscode-notebook-cell:/Users/brianrennie/Documents/GitHub/police-data-trust/backend/scraper/notebooks/cpdp.ipynb#ch0000006?line=2'>3</a>\u001b[0m     dtype\u001b[39m=\u001b[39;49m{\n\u001b[1;32m      <a href='vscode-notebook-cell:/Users/brianrennie/Documents/GitHub/police-data-trust/backend/scraper/notebooks/cpdp.ipynb#ch0000006?line=3'>4</a>\u001b[0m         \u001b[39m\"\u001b[39;49m\u001b[39mcrid\u001b[39;49m\u001b[39m\"\u001b[39;49m: \u001b[39mstr\u001b[39;49m,\n\u001b[1;32m      <a href='vscode-notebook-cell:/Users/brianrennie/Documents/GitHub/police-data-trust/backend/scraper/notebooks/cpdp.ipynb#ch0000006?line=4'>5</a>\u001b[0m         \u001b[39m\"\u001b[39;49m\u001b[39mbeat_id\u001b[39;49m\u001b[39m\"\u001b[39;49m: \u001b[39mstr\u001b[39;49m,\n\u001b[1;32m      <a href='vscode-notebook-cell:/Users/brianrennie/Documents/GitHub/police-data-trust/backend/scraper/notebooks/cpdp.ipynb#ch0000006?line=5'>6</a>\u001b[0m     },\n\u001b[1;32m      <a href='vscode-notebook-cell:/Users/brianrennie/Documents/GitHub/police-data-trust/backend/scraper/notebooks/cpdp.ipynb#ch0000006?line=6'>7</a>\u001b[0m     low_memory\u001b[39m=\u001b[39;49m\u001b[39mFalse\u001b[39;49;00m,\n\u001b[1;32m      <a href='vscode-notebook-cell:/Users/brianrennie/Documents/GitHub/police-data-trust/backend/scraper/notebooks/cpdp.ipynb#ch0000006?line=7'>8</a>\u001b[0m )\n\u001b[1;32m      <a href='vscode-notebook-cell:/Users/brianrennie/Documents/GitHub/police-data-trust/backend/scraper/notebooks/cpdp.ipynb#ch0000006?line=8'>9</a>\u001b[0m geocoding_results \u001b[39m=\u001b[39m pd\u001b[39m.\u001b[39mDataFrame()\n\u001b[1;32m     <a href='vscode-notebook-cell:/Users/brianrennie/Documents/GitHub/police-data-trust/backend/scraper/notebooks/cpdp.ipynb#ch0000006?line=9'>10</a>\u001b[0m geocoding_results[[\u001b[39m\"\u001b[39m\u001b[39mlongitude\u001b[39m\u001b[39m\"\u001b[39m, \u001b[39m\"\u001b[39m\u001b[39mlatitude\u001b[39m\u001b[39m\"\u001b[39m]] \u001b[39m=\u001b[39m (\n\u001b[1;32m     <a href='vscode-notebook-cell:/Users/brianrennie/Documents/GitHub/police-data-trust/backend/scraper/notebooks/cpdp.ipynb#ch0000006?line=10'>11</a>\u001b[0m     csv[[\u001b[39m\"\u001b[39m\u001b[39mx\u001b[39m\u001b[39m\"\u001b[39m, \u001b[39m\"\u001b[39m\u001b[39my\u001b[39m\u001b[39m\"\u001b[39m, \u001b[39m\"\u001b[39m\u001b[39mcrid\u001b[39m\u001b[39m\"\u001b[39m]]\u001b[39m.\u001b[39mcopy()\u001b[39m.\u001b[39mset_index(\u001b[39m\"\u001b[39m\u001b[39mcrid\u001b[39m\u001b[39m\"\u001b[39m, verify_integrity\u001b[39m=\u001b[39m\u001b[39mTrue\u001b[39;00m)\n\u001b[1;32m     <a href='vscode-notebook-cell:/Users/brianrennie/Documents/GitHub/police-data-trust/backend/scraper/notebooks/cpdp.ipynb#ch0000006?line=11'>12</a>\u001b[0m )\n",
      "File \u001b[0;32m~/Documents/GitHub/police-data-trust/.pdt/lib/python3.9/site-packages/pandas/util/_decorators.py:311\u001b[0m, in \u001b[0;36mdeprecate_nonkeyword_arguments.<locals>.decorate.<locals>.wrapper\u001b[0;34m(*args, **kwargs)\u001b[0m\n\u001b[1;32m    305\u001b[0m \u001b[39mif\u001b[39;00m \u001b[39mlen\u001b[39m(args) \u001b[39m>\u001b[39m num_allow_args:\n\u001b[1;32m    306\u001b[0m     warnings\u001b[39m.\u001b[39mwarn(\n\u001b[1;32m    307\u001b[0m         msg\u001b[39m.\u001b[39mformat(arguments\u001b[39m=\u001b[39marguments),\n\u001b[1;32m    308\u001b[0m         \u001b[39mFutureWarning\u001b[39;00m,\n\u001b[1;32m    309\u001b[0m         stacklevel\u001b[39m=\u001b[39mstacklevel,\n\u001b[1;32m    310\u001b[0m     )\n\u001b[0;32m--> 311\u001b[0m \u001b[39mreturn\u001b[39;00m func(\u001b[39m*\u001b[39;49margs, \u001b[39m*\u001b[39;49m\u001b[39m*\u001b[39;49mkwargs)\n",
      "File \u001b[0;32m~/Documents/GitHub/police-data-trust/.pdt/lib/python3.9/site-packages/pandas/io/parsers/readers.py:586\u001b[0m, in \u001b[0;36mread_csv\u001b[0;34m(filepath_or_buffer, sep, delimiter, header, names, index_col, usecols, squeeze, prefix, mangle_dupe_cols, dtype, engine, converters, true_values, false_values, skipinitialspace, skiprows, skipfooter, nrows, na_values, keep_default_na, na_filter, verbose, skip_blank_lines, parse_dates, infer_datetime_format, keep_date_col, date_parser, dayfirst, cache_dates, iterator, chunksize, compression, thousands, decimal, lineterminator, quotechar, quoting, doublequote, escapechar, comment, encoding, encoding_errors, dialect, error_bad_lines, warn_bad_lines, on_bad_lines, delim_whitespace, low_memory, memory_map, float_precision, storage_options)\u001b[0m\n\u001b[1;32m    571\u001b[0m kwds_defaults \u001b[39m=\u001b[39m _refine_defaults_read(\n\u001b[1;32m    572\u001b[0m     dialect,\n\u001b[1;32m    573\u001b[0m     delimiter,\n\u001b[0;32m   (...)\u001b[0m\n\u001b[1;32m    582\u001b[0m     defaults\u001b[39m=\u001b[39m{\u001b[39m\"\u001b[39m\u001b[39mdelimiter\u001b[39m\u001b[39m\"\u001b[39m: \u001b[39m\"\u001b[39m\u001b[39m,\u001b[39m\u001b[39m\"\u001b[39m},\n\u001b[1;32m    583\u001b[0m )\n\u001b[1;32m    584\u001b[0m kwds\u001b[39m.\u001b[39mupdate(kwds_defaults)\n\u001b[0;32m--> 586\u001b[0m \u001b[39mreturn\u001b[39;00m _read(filepath_or_buffer, kwds)\n",
      "File \u001b[0;32m~/Documents/GitHub/police-data-trust/.pdt/lib/python3.9/site-packages/pandas/io/parsers/readers.py:482\u001b[0m, in \u001b[0;36m_read\u001b[0;34m(filepath_or_buffer, kwds)\u001b[0m\n\u001b[1;32m    479\u001b[0m _validate_names(kwds\u001b[39m.\u001b[39mget(\u001b[39m\"\u001b[39m\u001b[39mnames\u001b[39m\u001b[39m\"\u001b[39m, \u001b[39mNone\u001b[39;00m))\n\u001b[1;32m    481\u001b[0m \u001b[39m# Create the parser.\u001b[39;00m\n\u001b[0;32m--> 482\u001b[0m parser \u001b[39m=\u001b[39m TextFileReader(filepath_or_buffer, \u001b[39m*\u001b[39;49m\u001b[39m*\u001b[39;49mkwds)\n\u001b[1;32m    484\u001b[0m \u001b[39mif\u001b[39;00m chunksize \u001b[39mor\u001b[39;00m iterator:\n\u001b[1;32m    485\u001b[0m     \u001b[39mreturn\u001b[39;00m parser\n",
      "File \u001b[0;32m~/Documents/GitHub/police-data-trust/.pdt/lib/python3.9/site-packages/pandas/io/parsers/readers.py:811\u001b[0m, in \u001b[0;36mTextFileReader.__init__\u001b[0;34m(self, f, engine, **kwds)\u001b[0m\n\u001b[1;32m    808\u001b[0m \u001b[39mif\u001b[39;00m \u001b[39m\"\u001b[39m\u001b[39mhas_index_names\u001b[39m\u001b[39m\"\u001b[39m \u001b[39min\u001b[39;00m kwds:\n\u001b[1;32m    809\u001b[0m     \u001b[39mself\u001b[39m\u001b[39m.\u001b[39moptions[\u001b[39m\"\u001b[39m\u001b[39mhas_index_names\u001b[39m\u001b[39m\"\u001b[39m] \u001b[39m=\u001b[39m kwds[\u001b[39m\"\u001b[39m\u001b[39mhas_index_names\u001b[39m\u001b[39m\"\u001b[39m]\n\u001b[0;32m--> 811\u001b[0m \u001b[39mself\u001b[39m\u001b[39m.\u001b[39m_engine \u001b[39m=\u001b[39m \u001b[39mself\u001b[39;49m\u001b[39m.\u001b[39;49m_make_engine(\u001b[39mself\u001b[39;49m\u001b[39m.\u001b[39;49mengine)\n",
      "File \u001b[0;32m~/Documents/GitHub/police-data-trust/.pdt/lib/python3.9/site-packages/pandas/io/parsers/readers.py:1040\u001b[0m, in \u001b[0;36mTextFileReader._make_engine\u001b[0;34m(self, engine)\u001b[0m\n\u001b[1;32m   1036\u001b[0m     \u001b[39mraise\u001b[39;00m \u001b[39mValueError\u001b[39;00m(\n\u001b[1;32m   1037\u001b[0m         \u001b[39mf\u001b[39m\u001b[39m\"\u001b[39m\u001b[39mUnknown engine: \u001b[39m\u001b[39m{\u001b[39;00mengine\u001b[39m}\u001b[39;00m\u001b[39m (valid options are \u001b[39m\u001b[39m{\u001b[39;00mmapping\u001b[39m.\u001b[39mkeys()\u001b[39m}\u001b[39;00m\u001b[39m)\u001b[39m\u001b[39m\"\u001b[39m\n\u001b[1;32m   1038\u001b[0m     )\n\u001b[1;32m   1039\u001b[0m \u001b[39m# error: Too many arguments for \"ParserBase\"\u001b[39;00m\n\u001b[0;32m-> 1040\u001b[0m \u001b[39mreturn\u001b[39;00m mapping[engine](\u001b[39mself\u001b[39;49m\u001b[39m.\u001b[39;49mf, \u001b[39m*\u001b[39;49m\u001b[39m*\u001b[39;49m\u001b[39mself\u001b[39;49m\u001b[39m.\u001b[39;49moptions)\n",
      "File \u001b[0;32m~/Documents/GitHub/police-data-trust/.pdt/lib/python3.9/site-packages/pandas/io/parsers/c_parser_wrapper.py:51\u001b[0m, in \u001b[0;36mCParserWrapper.__init__\u001b[0;34m(self, src, **kwds)\u001b[0m\n\u001b[1;32m     48\u001b[0m kwds[\u001b[39m\"\u001b[39m\u001b[39musecols\u001b[39m\u001b[39m\"\u001b[39m] \u001b[39m=\u001b[39m \u001b[39mself\u001b[39m\u001b[39m.\u001b[39musecols\n\u001b[1;32m     50\u001b[0m \u001b[39m# open handles\u001b[39;00m\n\u001b[0;32m---> 51\u001b[0m \u001b[39mself\u001b[39;49m\u001b[39m.\u001b[39;49m_open_handles(src, kwds)\n\u001b[1;32m     52\u001b[0m \u001b[39massert\u001b[39;00m \u001b[39mself\u001b[39m\u001b[39m.\u001b[39mhandles \u001b[39mis\u001b[39;00m \u001b[39mnot\u001b[39;00m \u001b[39mNone\u001b[39;00m\n\u001b[1;32m     54\u001b[0m \u001b[39m# Have to pass int, would break tests using TextReader directly otherwise :(\u001b[39;00m\n",
      "File \u001b[0;32m~/Documents/GitHub/police-data-trust/.pdt/lib/python3.9/site-packages/pandas/io/parsers/base_parser.py:222\u001b[0m, in \u001b[0;36mParserBase._open_handles\u001b[0;34m(self, src, kwds)\u001b[0m\n\u001b[1;32m    218\u001b[0m \u001b[39mdef\u001b[39;00m \u001b[39m_open_handles\u001b[39m(\u001b[39mself\u001b[39m, src: FilePathOrBuffer, kwds: \u001b[39mdict\u001b[39m[\u001b[39mstr\u001b[39m, Any]) \u001b[39m-\u001b[39m\u001b[39m>\u001b[39m \u001b[39mNone\u001b[39;00m:\n\u001b[1;32m    219\u001b[0m     \u001b[39m\"\"\"\u001b[39;00m\n\u001b[1;32m    220\u001b[0m \u001b[39m    Let the readers open IOHandles after they are done with their potential raises.\u001b[39;00m\n\u001b[1;32m    221\u001b[0m \u001b[39m    \"\"\"\u001b[39;00m\n\u001b[0;32m--> 222\u001b[0m     \u001b[39mself\u001b[39m\u001b[39m.\u001b[39mhandles \u001b[39m=\u001b[39m get_handle(\n\u001b[1;32m    223\u001b[0m         src,\n\u001b[1;32m    224\u001b[0m         \u001b[39m\"\u001b[39;49m\u001b[39mr\u001b[39;49m\u001b[39m\"\u001b[39;49m,\n\u001b[1;32m    225\u001b[0m         encoding\u001b[39m=\u001b[39;49mkwds\u001b[39m.\u001b[39;49mget(\u001b[39m\"\u001b[39;49m\u001b[39mencoding\u001b[39;49m\u001b[39m\"\u001b[39;49m, \u001b[39mNone\u001b[39;49;00m),\n\u001b[1;32m    226\u001b[0m         compression\u001b[39m=\u001b[39;49mkwds\u001b[39m.\u001b[39;49mget(\u001b[39m\"\u001b[39;49m\u001b[39mcompression\u001b[39;49m\u001b[39m\"\u001b[39;49m, \u001b[39mNone\u001b[39;49;00m),\n\u001b[1;32m    227\u001b[0m         memory_map\u001b[39m=\u001b[39;49mkwds\u001b[39m.\u001b[39;49mget(\u001b[39m\"\u001b[39;49m\u001b[39mmemory_map\u001b[39;49m\u001b[39m\"\u001b[39;49m, \u001b[39mFalse\u001b[39;49;00m),\n\u001b[1;32m    228\u001b[0m         storage_options\u001b[39m=\u001b[39;49mkwds\u001b[39m.\u001b[39;49mget(\u001b[39m\"\u001b[39;49m\u001b[39mstorage_options\u001b[39;49m\u001b[39m\"\u001b[39;49m, \u001b[39mNone\u001b[39;49;00m),\n\u001b[1;32m    229\u001b[0m         errors\u001b[39m=\u001b[39;49mkwds\u001b[39m.\u001b[39;49mget(\u001b[39m\"\u001b[39;49m\u001b[39mencoding_errors\u001b[39;49m\u001b[39m\"\u001b[39;49m, \u001b[39m\"\u001b[39;49m\u001b[39mstrict\u001b[39;49m\u001b[39m\"\u001b[39;49m),\n\u001b[1;32m    230\u001b[0m     )\n",
      "File \u001b[0;32m~/Documents/GitHub/police-data-trust/.pdt/lib/python3.9/site-packages/pandas/io/common.py:642\u001b[0m, in \u001b[0;36mget_handle\u001b[0;34m(path_or_buf, mode, encoding, compression, memory_map, is_text, errors, storage_options)\u001b[0m\n\u001b[1;32m    640\u001b[0m \u001b[39mif\u001b[39;00m is_path:\n\u001b[1;32m    641\u001b[0m     \u001b[39massert\u001b[39;00m \u001b[39misinstance\u001b[39m(handle, \u001b[39mstr\u001b[39m)\n\u001b[0;32m--> 642\u001b[0m     handle \u001b[39m=\u001b[39m gzip\u001b[39m.\u001b[39;49mGzipFile(\n\u001b[1;32m    643\u001b[0m         filename\u001b[39m=\u001b[39;49mhandle,\n\u001b[1;32m    644\u001b[0m         mode\u001b[39m=\u001b[39;49mioargs\u001b[39m.\u001b[39;49mmode,\n\u001b[1;32m    645\u001b[0m         \u001b[39m*\u001b[39;49m\u001b[39m*\u001b[39;49mcompression_args,\n\u001b[1;32m    646\u001b[0m     )\n\u001b[1;32m    647\u001b[0m \u001b[39melse\u001b[39;00m:\n\u001b[1;32m    648\u001b[0m     handle \u001b[39m=\u001b[39m gzip\u001b[39m.\u001b[39mGzipFile(\n\u001b[1;32m    649\u001b[0m         \u001b[39m# error: Argument \"fileobj\" to \"GzipFile\" has incompatible type\u001b[39;00m\n\u001b[1;32m    650\u001b[0m         \u001b[39m# \"Union[str, Union[IO[Any], RawIOBase, BufferedIOBase, TextIOBase,\u001b[39;00m\n\u001b[0;32m   (...)\u001b[0m\n\u001b[1;32m    654\u001b[0m         \u001b[39m*\u001b[39m\u001b[39m*\u001b[39mcompression_args,\n\u001b[1;32m    655\u001b[0m     )\n",
      "File \u001b[0;32m/opt/homebrew/Cellar/python@3.9/3.9.13_1/Frameworks/Python.framework/Versions/3.9/lib/python3.9/gzip.py:173\u001b[0m, in \u001b[0;36mGzipFile.__init__\u001b[0;34m(self, filename, mode, compresslevel, fileobj, mtime)\u001b[0m\n\u001b[1;32m    171\u001b[0m     mode \u001b[39m+\u001b[39m\u001b[39m=\u001b[39m \u001b[39m'\u001b[39m\u001b[39mb\u001b[39m\u001b[39m'\u001b[39m\n\u001b[1;32m    172\u001b[0m \u001b[39mif\u001b[39;00m fileobj \u001b[39mis\u001b[39;00m \u001b[39mNone\u001b[39;00m:\n\u001b[0;32m--> 173\u001b[0m     fileobj \u001b[39m=\u001b[39m \u001b[39mself\u001b[39m\u001b[39m.\u001b[39mmyfileobj \u001b[39m=\u001b[39m builtins\u001b[39m.\u001b[39;49mopen(filename, mode \u001b[39mor\u001b[39;49;00m \u001b[39m'\u001b[39;49m\u001b[39mrb\u001b[39;49m\u001b[39m'\u001b[39;49m)\n\u001b[1;32m    174\u001b[0m \u001b[39mif\u001b[39;00m filename \u001b[39mis\u001b[39;00m \u001b[39mNone\u001b[39;00m:\n\u001b[1;32m    175\u001b[0m     filename \u001b[39m=\u001b[39m \u001b[39mgetattr\u001b[39m(fileobj, \u001b[39m'\u001b[39m\u001b[39mname\u001b[39m\u001b[39m'\u001b[39m, \u001b[39m'\u001b[39m\u001b[39m'\u001b[39m)\n",
      "\u001b[0;31mFileNotFoundError\u001b[0m: [Errno 2] No such file or directory: 'backend/scraper/cpdp_geocoded_cr.csv.gz'"
     ]
    }
   ],
   "source": [
    "csv = pd.read_csv(\n",
    "    \"backend/scraper/cpdp_geocoded_cr.csv.gz\",\n",
    "    dtype={\n",
    "        \"crid\": str,\n",
    "        \"beat_id\": str,\n",
    "    },\n",
    "    low_memory=False,\n",
    ")\n",
    "geocoding_results = pd.DataFrame()\n",
    "geocoding_results[[\"longitude\", \"latitude\"]] = (\n",
    "    csv[[\"x\", \"y\", \"crid\"]].copy().set_index(\"crid\", verify_integrity=True)\n",
    ")\n",
    "display(geocoding_results.iloc[:2])\n"
   ]
  },
  {
   "cell_type": "code",
   "execution_count": 5,
   "metadata": {
    "execution": {
     "iopub.execute_input": "2021-11-15T20:04:54.662896Z",
     "iopub.status.busy": "2021-11-15T20:04:54.662639Z",
     "iopub.status.idle": "2021-11-15T20:04:54.664576Z",
     "shell.execute_reply": "2021-11-15T20:04:54.664336Z"
    }
   },
   "outputs": [],
   "source": [
    "def isnan(x):\n",
    "    return isinstance(x, float) and math.isnan(x)\n",
    "\n",
    "\n",
    "def nan_to_none(x):\n",
    "    return None if isnan(x) else x\n",
    "\n",
    "\n",
    "def strip_nan(r):\n",
    "    return r._make([nan_to_none(e) for e in r])\n",
    "\n",
    "\n",
    "def to_orm(instances, OrmClass):\n",
    "    return [\n",
    "        OrmClass(**strip_nan(i)._asdict())\n",
    "        for i in instances.itertuples(index=False)\n",
    "    ]\n",
    "\n",
    "\n",
    "def to_dicts(instances):\n",
    "    \"\"\"Converts dataframe rows into dicts, converting NaN to None\"\"\"\n",
    "    return [strip_nan(i)._asdict() for i in instances.itertuples(index=False)]\n",
    "\n",
    "\n",
    "def create_bulk(instances, chunk_size=1000):\n",
    "    \"\"\"Inserts ORM instances into the database\"\"\"\n",
    "    for chunk in range(0, len(instances), chunk_size):\n",
    "        db.session.add_all(instances[chunk : chunk + chunk_size])\n",
    "        db.session.flush()\n",
    "    db.session.commit()\n",
    "\n",
    "\n",
    "def insert_bulk(dicts, OrmClass):\n",
    "    \"\"\"Inserts dicts into the database.\n",
    "\n",
    "    This is 3x faster but does not implement ORM features.\n",
    "    \"\"\"\n",
    "    with app.app_context():\n",
    "        db.session.bulk_insert_mappings(OrmClass, dicts)\n",
    "        db.session.commit()\n",
    "\n",
    "\n",
    "def insert_bulk_if_missing(dicts, OrmClass):\n",
    "    try:\n",
    "        insert_bulk(dicts, OrmClass)\n",
    "    except sqlalchemy.exc.IntegrityError as e:\n",
    "        if isinstance(e.orig, psycopg2.errors.UniqueViolation):\n",
    "            print(f\"Already created {OrmClass.__name__} records\")\n",
    "        else:\n",
    "            raise e\n",
    "\n",
    "\n",
    "def add_date_of_birth(target, birth_year):\n",
    "    # Default to 01-01 for birthday\n",
    "    has_birth_year = ~birth_year.isna()\n",
    "    target.loc[has_birth_year, \"date_of_birth\"] = (\n",
    "        birth_year[has_birth_year] + \"-01-01\"\n",
    "    )\n"
   ]
  },
  {
   "cell_type": "markdown",
   "metadata": {},
   "source": [
    "## Load Incidents"
   ]
  },
  {
   "cell_type": "code",
   "execution_count": 6,
   "metadata": {
    "execution": {
     "iopub.execute_input": "2021-11-15T20:04:54.669111Z",
     "iopub.status.busy": "2021-11-15T20:04:54.668858Z",
     "iopub.status.idle": "2021-11-15T20:04:55.369927Z",
     "shell.execute_reply": "2021-11-15T20:04:55.369670Z"
    }
   },
   "outputs": [],
   "source": [
    "incidents = complaints[[\"complaint_date\", \"closed_date\"]].copy()\n",
    "incidents[\"source\"] = \"cpdp\"\n",
    "incidents[[\"source_id\", \"time_of_incident\"]] = complaints[\n",
    "    [\"cr_id\", \"incident_date\"]\n",
    "]\n",
    "has_full_address = ~complaints[\"full_address\"].isna()\n",
    "\n",
    "# full address only contains street information, so add the city\n",
    "incidents.loc[has_full_address, \"location\"] = (\n",
    "    complaints.loc[has_full_address, \"full_address\"] + \" CHICAGO ILLINOIS\"\n",
    ")\n",
    "\n",
    "# Join the address components, ignoring missing values and consolidating whitespace\n",
    "address = complaints[~has_full_address]\n",
    "incidents.loc[~has_full_address, \"location\"] = (\n",
    "    address[\"add1\"]\n",
    "    .str.cat(address[[\"add2\", \"city\"]], na_rep=\" \")\n",
    "    .str.strip()\n",
    "    .str.replace(r\"\\s{2,}\", \" \", regex=True)\n",
    ")\n",
    "\n",
    "# Add Coordinates if available\n",
    "incidents[\"longitude\"] = incidents.source_id.map(geocoding_results['longitude'])\n",
    "incidents[\"latitude\"] = incidents.source_id.map(geocoding_results['latitude'])\n",
    "\n",
    "incident_dicts = to_dicts(incidents)\n"
   ]
  },
  {
   "cell_type": "code",
   "execution_count": 7,
   "metadata": {
    "execution": {
     "iopub.execute_input": "2021-11-15T20:04:55.372992Z",
     "iopub.status.busy": "2021-11-15T20:04:55.372695Z",
     "iopub.status.idle": "2021-11-15T20:04:55.399596Z",
     "shell.execute_reply": "2021-11-15T20:04:55.399367Z"
    }
   },
   "outputs": [
    {
     "name": "stdout",
     "output_type": "stream",
     "text": [
      "Already created Incident records\n"
     ]
    }
   ],
   "source": [
    "insert_bulk_if_missing(incident_dicts, Incident)\n"
   ]
  },
  {
   "cell_type": "markdown",
   "metadata": {},
   "source": [
    "## Load Officers"
   ]
  },
  {
   "cell_type": "code",
   "execution_count": 8,
   "metadata": {
    "execution": {
     "iopub.execute_input": "2021-11-15T20:04:55.405623Z",
     "iopub.status.busy": "2021-11-15T20:04:55.405068Z",
     "iopub.status.idle": "2021-11-15T20:04:55.530678Z",
     "shell.execute_reply": "2021-11-15T20:04:55.530891Z"
    }
   },
   "outputs": [],
   "source": [
    "officers = profiles[\n",
    "    [\"first_name\", \"last_name\", \"race\", \"gender\", \"appointed_date\"]\n",
    "].copy()\n",
    "officers[\"source\"] = \"cpdp\"\n",
    "officers[[\"source_id\", \"rank\", \"star\", \"unit\"]] = profiles[\n",
    "    [\n",
    "        \"link_UID\",\n",
    "        \"cleaned_rank\",\n",
    "        \"current_star\",\n",
    "        \"current_unit\",\n",
    "    ]\n",
    "]\n",
    "add_date_of_birth(officers, profiles[\"birth_year\"])\n",
    "\n",
    "officer_dicts = to_dicts(officers)\n"
   ]
  },
  {
   "cell_type": "code",
   "execution_count": 9,
   "metadata": {
    "execution": {
     "iopub.execute_input": "2021-11-15T20:04:55.534107Z",
     "iopub.status.busy": "2021-11-15T20:04:55.533822Z",
     "iopub.status.idle": "2021-11-15T20:04:55.538512Z",
     "shell.execute_reply": "2021-11-15T20:04:55.538705Z"
    }
   },
   "outputs": [
    {
     "name": "stdout",
     "output_type": "stream",
     "text": [
      "Already created Officer records\n"
     ]
    }
   ],
   "source": [
    "insert_bulk_if_missing(officer_dicts, Officer)\n"
   ]
  },
  {
   "cell_type": "markdown",
   "metadata": {},
   "source": [
    "## Generate Mapping from CPDP to NPDC ID's\n",
    "\n",
    "CPDP entities are linked together using incident and officer ID's. There is a 1-many corespondance between incidents/officers and victims, investigations, participants, and accusations. In order to insert these entities into the database, we need to convert the CPDP id's in the source data to their corresponding NPDC id's."
   ]
  },
  {
   "cell_type": "code",
   "execution_count": 10,
   "metadata": {
    "execution": {
     "iopub.execute_input": "2021-11-15T20:04:55.542263Z",
     "iopub.status.busy": "2021-11-15T20:04:55.541996Z",
     "iopub.status.idle": "2021-11-15T20:04:56.022825Z",
     "shell.execute_reply": "2021-11-15T20:04:56.023123Z"
    }
   },
   "outputs": [],
   "source": [
    "def get_source_npdc_id_map(OrmClass):\n",
    "    \"\"\"Returns a dict mapping non-null source ID's to NPDC id's (PK's)\"\"\"\n",
    "    with app.app_context():\n",
    "        ids = (\n",
    "            db.session.query(OrmClass)\n",
    "            .filter(OrmClass.source_id != None)\n",
    "            .with_entities(OrmClass.source_id, OrmClass.id)\n",
    "            .all()\n",
    "        )\n",
    "    return dict(ids)\n",
    "\n",
    "\n",
    "officer_id_by_link_uid = get_source_npdc_id_map(Officer)\n",
    "incident_id_by_cr_id = get_source_npdc_id_map(Incident)\n"
   ]
  },
  {
   "cell_type": "markdown",
   "metadata": {},
   "source": [
    "## Load Accusations\n",
    "\n",
    "Complaints may be made against multiple officers for a single incident. Each accusation links a single officer to a single incident."
   ]
  },
  {
   "cell_type": "code",
   "execution_count": 11,
   "metadata": {
    "execution": {
     "iopub.execute_input": "2021-11-15T20:04:56.034769Z",
     "iopub.status.busy": "2021-11-15T20:04:56.027023Z",
     "iopub.status.idle": "2021-11-15T20:04:57.560359Z",
     "shell.execute_reply": "2021-11-15T20:04:57.560085Z"
    }
   },
   "outputs": [
    {
     "name": "stdout",
     "output_type": "stream",
     "text": [
      "Already created Accusation records\n"
     ]
    }
   ],
   "source": [
    "accusations = pd.DataFrame()\n",
    "accusations[[\"category\", \"category_code\", \"finding\", \"outcome\"]] = accused[\n",
    "    [\"complaint_category\", \"complaint_code\", \"final_finding\", \"final_outcome\"]\n",
    "].copy()\n",
    "accusations[\"incident_id\"] = accused[\"cr_id\"].map(incident_id_by_cr_id)\n",
    "accusations[\"officer_id\"] = accused[\"link_UID\"].map(officer_id_by_link_uid)\n",
    "check_defined(accusations, [\"incident_id\", \"officer_id\"])\n",
    "\n",
    "insert_bulk_if_missing(to_dicts(accusations), Accusation)\n"
   ]
  },
  {
   "cell_type": "markdown",
   "metadata": {},
   "source": [
    "## Load Victims\n",
    "\n",
    "Victims may or may not be the person making the complaint."
   ]
  },
  {
   "cell_type": "code",
   "execution_count": 12,
   "metadata": {
    "execution": {
     "iopub.execute_input": "2021-11-15T20:04:57.586871Z",
     "iopub.status.busy": "2021-11-15T20:04:57.586506Z",
     "iopub.status.idle": "2021-11-15T20:04:58.014452Z",
     "shell.execute_reply": "2021-11-15T20:04:58.014194Z"
    }
   },
   "outputs": [
    {
     "name": "stdout",
     "output_type": "stream",
     "text": [
      "Already created Victim records\n"
     ]
    }
   ],
   "source": [
    "# About 25% of victims reference cr_id which is missing in the complaints table.\n",
    "# CPDP still shows information for these complaints, and I'm not sure where that\n",
    "# data comes from. For our purposes, drop victims with no associated complaint.\n",
    "# Ex https://cpdp.co/complaint/1086131/\n",
    "victims_v2 = victims_v2[victims_v2.cr_id.isin(incident_id_by_cr_id)]\n",
    "victims_v3 = victims_v3[victims_v3.cr_id.isin(incident_id_by_cr_id)]\n",
    "\n",
    "v2 = victims_v2[[\"gender\", \"race\"]].copy()\n",
    "v2[\"incident_id\"] = victims_v2.cr_id.map(incident_id_by_cr_id)\n",
    "\n",
    "v3 = victims_v3[\n",
    "    [\"gender\", \"race\", \"injury_condition\", \"injury_description\"]\n",
    "].copy()\n",
    "v3[\"incident_id\"] = victims_v3.cr_id.map(incident_id_by_cr_id)\n",
    "add_date_of_birth(v3, victims_v3[\"birth_year\"])\n",
    "v3[\"deceased\"] = v3[\"injury_condition\"].str.match(\"deceased\", case=False)\n",
    "\n",
    "# Collect all victims in v3 as well as any in v2 that don't appear in v3\n",
    "victims = v2[~v2.incident_id.isin(v3.incident_id)].append(v3, ignore_index=True)\n",
    "check_defined(victims, \"incident_id\")\n",
    "# Specify primary keys for victims so insertion into the database is idempotent\n",
    "victims[\"id\"] = 1 + np.arange(victims.shape[0])\n",
    "\n",
    "insert_bulk_if_missing(to_dicts(victims), Victim)\n"
   ]
  },
  {
   "cell_type": "markdown",
   "metadata": {},
   "source": [
    "# CPDP Data Summary\n",
    "\n",
    "CPDP uses these entities in its data model:\n",
    "\n",
    "- **Complaints**: Complaints are filed by individuals or groups against one or more officers. They correspond to our `Incident` model. Potentially, there could be multiple complaints surrounding the same event. Are incidents like that too?\n",
    "- **Profiles**: CPDP generates officer profiles from all of its data collection, and deduplicates as best it can. Profiles correspond to the `Officers` model.\n",
    "- **Accusations**: Each complaint accuses one or more officers, and each accusation is recorded in this table. It is the join table between officers and incidents.\n",
    "- **Victims, Complainants, Investigators, Witnesses**: These are many-1 with complaints. Investigators have names or officer ID's, while the others are anonymized. These have equivalent tables in NPDC.\n",
    "\n",
    "CPDP stores allegations, findings, and outcomes on Accusations and the overall close date on Complaints, while we stored it all on Investigations. Should we follow CPDP's model and drop the Investigation?\n",
    "\n",
    "## Comparing the data used in the [UI Designs](https://www.figma.com/file/TM86P6ePUar5g24pk4h6Du/NPDC--2?node-id=1400%3A1723) with [Availability in CPDP](https://github.com/invinst/chicago-police-data/blob/master/data/unified_data/data-dictionary/data-dictionary.yaml)\n",
    "\n",
    "#### Incident Search: Location, Incident Type, Date/Time\n",
    "\n",
    "Dates, free-text location information, accusation descriptions, and injury information are available for searching. CPDP does not publish lat/lon coordinates for incidents. Accusation Description most closely matches Incident Type. We could also search all incident text fields at once.\n",
    "\n",
    "#### Officer Search: Name, Location, Badge Number\n",
    "\n",
    "Officer names, rank, star, and unit are available, but location and badge number are not.\n",
    "\n",
    "#### Incident Results\n",
    "  - Officer(s) involved\n",
    "  - Date/Time\n",
    "  - Incident type\n",
    "  - Use of Force\n",
    "  - Source\n",
    "\n",
    "Use of force and source are not available as designed. Victim injury information could be listed instead, as well as the accusations and whether they were upheld.\n",
    "\n",
    "CPDP does show use of force reports / Tactical Response Reports (TRRs) on its site. These are recorded by officers whenever they use force in the field. Unfortunately, they are not joined to complaints, so we can only associate them with officers, not incidents."
   ]
  },
  {
   "cell_type": "code",
   "execution_count": 2,
   "metadata": {
    "execution": {
     "iopub.execute_input": "2021-11-15T20:04:58.034251Z",
     "iopub.status.busy": "2021-11-15T20:04:58.025389Z",
     "iopub.status.idle": "2021-11-15T20:04:58.211562Z",
     "shell.execute_reply": "2021-11-15T20:04:58.211262Z"
    }
   },
   "outputs": [
    {
     "ename": "KeyError",
     "evalue": "'incidents'",
     "output_type": "error",
     "traceback": [
      "\u001b[0;31m---------------------------------------------------------------------------\u001b[0m",
      "\u001b[0;31mKeyError\u001b[0m                                  Traceback (most recent call last)",
      "\u001b[1;32m/Users/brianrennie/Documents/GitHub/police-data-trust/backend/scraper/notebooks/cpdp.ipynb Cell 3'\u001b[0m in \u001b[0;36m<cell line: 3>\u001b[0;34m()\u001b[0m\n\u001b[1;32m      <a href='vscode-notebook-cell:/Users/brianrennie/Documents/GitHub/police-data-trust/backend/scraper/notebooks/cpdp.ipynb#ch0000002?line=0'>1</a>\u001b[0m \u001b[39m# Display CPDP tables\u001b[39;00m\n\u001b[1;32m      <a href='vscode-notebook-cell:/Users/brianrennie/Documents/GitHub/police-data-trust/backend/scraper/notebooks/cpdp.ipynb#ch0000002?line=2'>3</a>\u001b[0m \u001b[39mfor\u001b[39;00m t \u001b[39min\u001b[39;00m [\u001b[39m\"\u001b[39m\u001b[39mincidents\u001b[39m\u001b[39m\"\u001b[39m, \u001b[39m\"\u001b[39m\u001b[39mofficers\u001b[39m\u001b[39m\"\u001b[39m, \u001b[39m\"\u001b[39m\u001b[39maccusations\u001b[39m\u001b[39m\"\u001b[39m, \u001b[39m\"\u001b[39m\u001b[39mvictims\u001b[39m\u001b[39m\"\u001b[39m]:\n\u001b[0;32m----> <a href='vscode-notebook-cell:/Users/brianrennie/Documents/GitHub/police-data-trust/backend/scraper/notebooks/cpdp.ipynb#ch0000002?line=3'>4</a>\u001b[0m     df \u001b[39m=\u001b[39m \u001b[39mglobals\u001b[39;49m()[t]\n\u001b[1;32m      <a href='vscode-notebook-cell:/Users/brianrennie/Documents/GitHub/police-data-trust/backend/scraper/notebooks/cpdp.ipynb#ch0000002?line=4'>5</a>\u001b[0m     df[\u001b[39m\"\u001b[39m\u001b[39mnna\u001b[39m\u001b[39m\"\u001b[39m] \u001b[39m=\u001b[39m df\u001b[39m.\u001b[39misna()\u001b[39m.\u001b[39msum(axis\u001b[39m=\u001b[39m\u001b[39m1\u001b[39m)\n\u001b[1;32m      <a href='vscode-notebook-cell:/Users/brianrennie/Documents/GitHub/police-data-trust/backend/scraper/notebooks/cpdp.ipynb#ch0000002?line=5'>6</a>\u001b[0m     \u001b[39mprint\u001b[39m(t, \u001b[39mf\u001b[39m\u001b[39m\"\u001b[39m\u001b[39m{\u001b[39;00mdf\u001b[39m.\u001b[39mshape[\u001b[39m0\u001b[39m]\u001b[39m}\u001b[39;00m\u001b[39m records\u001b[39m\u001b[39m\"\u001b[39m)\n",
      "\u001b[0;31mKeyError\u001b[0m: 'incidents'"
     ]
    }
   ],
   "source": [
    "# Display CPDP tables\n",
    "\n",
    "for t in [\"incidents\", \"officers\", \"accusations\", \"victims\"]:\n",
    "    df = globals()[t]\n",
    "    df[\"nna\"] = df.isna().sum(axis=1)\n",
    "    print(t, f\"{df.shape[0]} records\")\n",
    "    display(df.sort_values(\"nna\").drop(\"nna\", axis=1).iloc[:10])\n"
   ]
  },
  {
   "cell_type": "markdown",
   "metadata": {},
   "source": [
    "## Listing Officers by Number of Accusations\n",
    "\n",
    "This matches the results at [cpdp.co](https://cpdp.co)"
   ]
  },
  {
   "cell_type": "code",
   "execution_count": 11,
   "metadata": {
    "execution": {
     "iopub.execute_input": "2021-11-15T20:04:58.227949Z",
     "iopub.status.busy": "2021-11-15T20:04:58.227612Z",
     "iopub.status.idle": "2021-11-15T20:04:58.498717Z",
     "shell.execute_reply": "2021-11-15T20:04:58.498440Z"
    }
   },
   "outputs": [
    {
     "name": "stdout",
     "output_type": "stream",
     "text": [
      "Query:\n",
      " SELECT officer.source_id AS officer_source_id, officer.first_name AS officer_first_name, officer.last_name AS officer_last_name, count(*) AS count_1 \n",
      "FROM officer JOIN accusation ON officer.id = accusation.officer_id GROUP BY officer.id ORDER BY count(*) DESC \n",
      "\n"
     ]
    },
    {
     "ename": "AttributeError",
     "evalue": "'NoneType' object has no attribute 'title'",
     "output_type": "error",
     "traceback": [
      "\u001b[0;31m---------------------------------------------------------------------------\u001b[0m",
      "\u001b[0;31mAttributeError\u001b[0m                            Traceback (most recent call last)",
      "\u001b[1;32m/Users/brianrennie/Documents/GitHub/police-data-trust/backend/scraper/notebooks/cpdp.ipynb Cell 18'\u001b[0m in \u001b[0;36m<cell line: 7>\u001b[0;34m()\u001b[0m\n\u001b[1;32m      <a href='vscode-notebook-cell:/Users/brianrennie/Documents/GitHub/police-data-trust/backend/scraper/notebooks/cpdp.ipynb#ch0000017?line=7'>8</a>\u001b[0m     q \u001b[39m=\u001b[39m (\n\u001b[1;32m      <a href='vscode-notebook-cell:/Users/brianrennie/Documents/GitHub/police-data-trust/backend/scraper/notebooks/cpdp.ipynb#ch0000017?line=8'>9</a>\u001b[0m         db\u001b[39m.\u001b[39msession\u001b[39m.\u001b[39mquery(\n\u001b[1;32m     <a href='vscode-notebook-cell:/Users/brianrennie/Documents/GitHub/police-data-trust/backend/scraper/notebooks/cpdp.ipynb#ch0000017?line=9'>10</a>\u001b[0m             Officer\u001b[39m.\u001b[39msource_id, Officer\u001b[39m.\u001b[39mfirst_name, Officer\u001b[39m.\u001b[39mlast_name, count()\n\u001b[0;32m   (...)\u001b[0m\n\u001b[1;32m     <a href='vscode-notebook-cell:/Users/brianrennie/Documents/GitHub/police-data-trust/backend/scraper/notebooks/cpdp.ipynb#ch0000017?line=13'>14</a>\u001b[0m         \u001b[39m.\u001b[39morder_by(desc(count()))\n\u001b[1;32m     <a href='vscode-notebook-cell:/Users/brianrennie/Documents/GitHub/police-data-trust/backend/scraper/notebooks/cpdp.ipynb#ch0000017?line=14'>15</a>\u001b[0m     )\n\u001b[1;32m     <a href='vscode-notebook-cell:/Users/brianrennie/Documents/GitHub/police-data-trust/backend/scraper/notebooks/cpdp.ipynb#ch0000017?line=15'>16</a>\u001b[0m     \u001b[39mprint\u001b[39m(\u001b[39m\"\u001b[39m\u001b[39mQuery:\u001b[39m\u001b[39m\\n\u001b[39;00m\u001b[39m\"\u001b[39m, \u001b[39mstr\u001b[39m(q), \u001b[39m\"\u001b[39m\u001b[39m\\n\u001b[39;00m\u001b[39m\"\u001b[39m)\n\u001b[1;32m     <a href='vscode-notebook-cell:/Users/brianrennie/Documents/GitHub/police-data-trust/backend/scraper/notebooks/cpdp.ipynb#ch0000017?line=16'>17</a>\u001b[0m     df \u001b[39m=\u001b[39m pd\u001b[39m.\u001b[39mDataFrame(\n\u001b[0;32m---> <a href='vscode-notebook-cell:/Users/brianrennie/Documents/GitHub/police-data-trust/backend/scraper/notebooks/cpdp.ipynb#ch0000017?line=17'>18</a>\u001b[0m         data\u001b[39m=\u001b[39m[\n\u001b[1;32m     <a href='vscode-notebook-cell:/Users/brianrennie/Documents/GitHub/police-data-trust/backend/scraper/notebooks/cpdp.ipynb#ch0000017?line=18'>19</a>\u001b[0m             (\n\u001b[1;32m     <a href='vscode-notebook-cell:/Users/brianrennie/Documents/GitHub/police-data-trust/backend/scraper/notebooks/cpdp.ipynb#ch0000017?line=19'>20</a>\u001b[0m                 \u001b[39mid\u001b[39m,\n\u001b[1;32m     <a href='vscode-notebook-cell:/Users/brianrennie/Documents/GitHub/police-data-trust/backend/scraper/notebooks/cpdp.ipynb#ch0000017?line=20'>21</a>\u001b[0m                 \u001b[39mf\u001b[39m\u001b[39m\"\u001b[39m\u001b[39m{\u001b[39;00mfirst\u001b[39m.\u001b[39mtitle()\u001b[39m}\u001b[39;00m\u001b[39m \u001b[39m\u001b[39m{\u001b[39;00mlast\u001b[39m.\u001b[39mtitle()\u001b[39m}\u001b[39;00m\u001b[39m\"\u001b[39m,\n\u001b[1;32m     <a href='vscode-notebook-cell:/Users/brianrennie/Documents/GitHub/police-data-trust/backend/scraper/notebooks/cpdp.ipynb#ch0000017?line=21'>22</a>\u001b[0m                 num_accusations,\n\u001b[1;32m     <a href='vscode-notebook-cell:/Users/brianrennie/Documents/GitHub/police-data-trust/backend/scraper/notebooks/cpdp.ipynb#ch0000017?line=22'>23</a>\u001b[0m                 cpdp_officer_url(\u001b[39mid\u001b[39m),\n\u001b[1;32m     <a href='vscode-notebook-cell:/Users/brianrennie/Documents/GitHub/police-data-trust/backend/scraper/notebooks/cpdp.ipynb#ch0000017?line=23'>24</a>\u001b[0m             )\n\u001b[1;32m     <a href='vscode-notebook-cell:/Users/brianrennie/Documents/GitHub/police-data-trust/backend/scraper/notebooks/cpdp.ipynb#ch0000017?line=24'>25</a>\u001b[0m             \u001b[39mfor\u001b[39;00m \u001b[39mid\u001b[39m, first, last, num_accusations \u001b[39min\u001b[39;00m q\n\u001b[1;32m     <a href='vscode-notebook-cell:/Users/brianrennie/Documents/GitHub/police-data-trust/backend/scraper/notebooks/cpdp.ipynb#ch0000017?line=25'>26</a>\u001b[0m         ],\n\u001b[1;32m     <a href='vscode-notebook-cell:/Users/brianrennie/Documents/GitHub/police-data-trust/backend/scraper/notebooks/cpdp.ipynb#ch0000017?line=26'>27</a>\u001b[0m         columns\u001b[39m=\u001b[39m[\u001b[39m\"\u001b[39m\u001b[39mid\u001b[39m\u001b[39m\"\u001b[39m, \u001b[39m\"\u001b[39m\u001b[39mOfficer Name\u001b[39m\u001b[39m\"\u001b[39m, \u001b[39m\"\u001b[39m\u001b[39mNumber of Accusations\u001b[39m\u001b[39m\"\u001b[39m, \u001b[39m\"\u001b[39m\u001b[39mSource Link\u001b[39m\u001b[39m\"\u001b[39m],\n\u001b[1;32m     <a href='vscode-notebook-cell:/Users/brianrennie/Documents/GitHub/police-data-trust/backend/scraper/notebooks/cpdp.ipynb#ch0000017?line=27'>28</a>\u001b[0m     )\u001b[39m.\u001b[39mset_index(\u001b[39m\"\u001b[39m\u001b[39mid\u001b[39m\u001b[39m\"\u001b[39m)\n\u001b[1;32m     <a href='vscode-notebook-cell:/Users/brianrennie/Documents/GitHub/police-data-trust/backend/scraper/notebooks/cpdp.ipynb#ch0000017?line=30'>31</a>\u001b[0m display(HTML(df\u001b[39m.\u001b[39miloc[:\u001b[39m10\u001b[39m]\u001b[39m.\u001b[39mto_html(render_links\u001b[39m=\u001b[39m\u001b[39mTrue\u001b[39;00m)))\n",
      "\u001b[1;32m/Users/brianrennie/Documents/GitHub/police-data-trust/backend/scraper/notebooks/cpdp.ipynb Cell 18'\u001b[0m in \u001b[0;36m<listcomp>\u001b[0;34m(.0)\u001b[0m\n\u001b[1;32m      <a href='vscode-notebook-cell:/Users/brianrennie/Documents/GitHub/police-data-trust/backend/scraper/notebooks/cpdp.ipynb#ch0000017?line=7'>8</a>\u001b[0m     q \u001b[39m=\u001b[39m (\n\u001b[1;32m      <a href='vscode-notebook-cell:/Users/brianrennie/Documents/GitHub/police-data-trust/backend/scraper/notebooks/cpdp.ipynb#ch0000017?line=8'>9</a>\u001b[0m         db\u001b[39m.\u001b[39msession\u001b[39m.\u001b[39mquery(\n\u001b[1;32m     <a href='vscode-notebook-cell:/Users/brianrennie/Documents/GitHub/police-data-trust/backend/scraper/notebooks/cpdp.ipynb#ch0000017?line=9'>10</a>\u001b[0m             Officer\u001b[39m.\u001b[39msource_id, Officer\u001b[39m.\u001b[39mfirst_name, Officer\u001b[39m.\u001b[39mlast_name, count()\n\u001b[0;32m   (...)\u001b[0m\n\u001b[1;32m     <a href='vscode-notebook-cell:/Users/brianrennie/Documents/GitHub/police-data-trust/backend/scraper/notebooks/cpdp.ipynb#ch0000017?line=13'>14</a>\u001b[0m         \u001b[39m.\u001b[39morder_by(desc(count()))\n\u001b[1;32m     <a href='vscode-notebook-cell:/Users/brianrennie/Documents/GitHub/police-data-trust/backend/scraper/notebooks/cpdp.ipynb#ch0000017?line=14'>15</a>\u001b[0m     )\n\u001b[1;32m     <a href='vscode-notebook-cell:/Users/brianrennie/Documents/GitHub/police-data-trust/backend/scraper/notebooks/cpdp.ipynb#ch0000017?line=15'>16</a>\u001b[0m     \u001b[39mprint\u001b[39m(\u001b[39m\"\u001b[39m\u001b[39mQuery:\u001b[39m\u001b[39m\\n\u001b[39;00m\u001b[39m\"\u001b[39m, \u001b[39mstr\u001b[39m(q), \u001b[39m\"\u001b[39m\u001b[39m\\n\u001b[39;00m\u001b[39m\"\u001b[39m)\n\u001b[1;32m     <a href='vscode-notebook-cell:/Users/brianrennie/Documents/GitHub/police-data-trust/backend/scraper/notebooks/cpdp.ipynb#ch0000017?line=16'>17</a>\u001b[0m     df \u001b[39m=\u001b[39m pd\u001b[39m.\u001b[39mDataFrame(\n\u001b[1;32m     <a href='vscode-notebook-cell:/Users/brianrennie/Documents/GitHub/police-data-trust/backend/scraper/notebooks/cpdp.ipynb#ch0000017?line=17'>18</a>\u001b[0m         data\u001b[39m=\u001b[39m[\n\u001b[1;32m     <a href='vscode-notebook-cell:/Users/brianrennie/Documents/GitHub/police-data-trust/backend/scraper/notebooks/cpdp.ipynb#ch0000017?line=18'>19</a>\u001b[0m             (\n\u001b[1;32m     <a href='vscode-notebook-cell:/Users/brianrennie/Documents/GitHub/police-data-trust/backend/scraper/notebooks/cpdp.ipynb#ch0000017?line=19'>20</a>\u001b[0m                 \u001b[39mid\u001b[39m,\n\u001b[0;32m---> <a href='vscode-notebook-cell:/Users/brianrennie/Documents/GitHub/police-data-trust/backend/scraper/notebooks/cpdp.ipynb#ch0000017?line=20'>21</a>\u001b[0m                 \u001b[39mf\u001b[39m\u001b[39m\"\u001b[39m\u001b[39m{\u001b[39;00mfirst\u001b[39m.\u001b[39mtitle()\u001b[39m}\u001b[39;00m\u001b[39m \u001b[39m\u001b[39m{\u001b[39;00mlast\u001b[39m.\u001b[39mtitle()\u001b[39m}\u001b[39;00m\u001b[39m\"\u001b[39m,\n\u001b[1;32m     <a href='vscode-notebook-cell:/Users/brianrennie/Documents/GitHub/police-data-trust/backend/scraper/notebooks/cpdp.ipynb#ch0000017?line=21'>22</a>\u001b[0m                 num_accusations,\n\u001b[1;32m     <a href='vscode-notebook-cell:/Users/brianrennie/Documents/GitHub/police-data-trust/backend/scraper/notebooks/cpdp.ipynb#ch0000017?line=22'>23</a>\u001b[0m                 cpdp_officer_url(\u001b[39mid\u001b[39m),\n\u001b[1;32m     <a href='vscode-notebook-cell:/Users/brianrennie/Documents/GitHub/police-data-trust/backend/scraper/notebooks/cpdp.ipynb#ch0000017?line=23'>24</a>\u001b[0m             )\n\u001b[1;32m     <a href='vscode-notebook-cell:/Users/brianrennie/Documents/GitHub/police-data-trust/backend/scraper/notebooks/cpdp.ipynb#ch0000017?line=24'>25</a>\u001b[0m             \u001b[39mfor\u001b[39;00m \u001b[39mid\u001b[39m, first, last, num_accusations \u001b[39min\u001b[39;00m q\n\u001b[1;32m     <a href='vscode-notebook-cell:/Users/brianrennie/Documents/GitHub/police-data-trust/backend/scraper/notebooks/cpdp.ipynb#ch0000017?line=25'>26</a>\u001b[0m         ],\n\u001b[1;32m     <a href='vscode-notebook-cell:/Users/brianrennie/Documents/GitHub/police-data-trust/backend/scraper/notebooks/cpdp.ipynb#ch0000017?line=26'>27</a>\u001b[0m         columns\u001b[39m=\u001b[39m[\u001b[39m\"\u001b[39m\u001b[39mid\u001b[39m\u001b[39m\"\u001b[39m, \u001b[39m\"\u001b[39m\u001b[39mOfficer Name\u001b[39m\u001b[39m\"\u001b[39m, \u001b[39m\"\u001b[39m\u001b[39mNumber of Accusations\u001b[39m\u001b[39m\"\u001b[39m, \u001b[39m\"\u001b[39m\u001b[39mSource Link\u001b[39m\u001b[39m\"\u001b[39m],\n\u001b[1;32m     <a href='vscode-notebook-cell:/Users/brianrennie/Documents/GitHub/police-data-trust/backend/scraper/notebooks/cpdp.ipynb#ch0000017?line=27'>28</a>\u001b[0m     )\u001b[39m.\u001b[39mset_index(\u001b[39m\"\u001b[39m\u001b[39mid\u001b[39m\u001b[39m\"\u001b[39m)\n\u001b[1;32m     <a href='vscode-notebook-cell:/Users/brianrennie/Documents/GitHub/police-data-trust/backend/scraper/notebooks/cpdp.ipynb#ch0000017?line=30'>31</a>\u001b[0m display(HTML(df\u001b[39m.\u001b[39miloc[:\u001b[39m10\u001b[39m]\u001b[39m.\u001b[39mto_html(render_links\u001b[39m=\u001b[39m\u001b[39mTrue\u001b[39;00m)))\n",
      "\u001b[0;31mAttributeError\u001b[0m: 'NoneType' object has no attribute 'title'"
     ]
    }
   ],
   "source": [
    "def cpdp_officer_url(id):\n",
    "    return f\"https://cpdp.co/officer/{id}\"\n",
    "\n",
    "\n",
    "desc = db.desc\n",
    "count = db.func.count\n",
    "with app.app_context():\n",
    "    q = (\n",
    "        db.session.query(\n",
    "            Officer.source_id, Officer.first_name, Officer.last_name, count()\n",
    "        )\n",
    "        .join(Accusation)\n",
    "        .group_by(Officer.id)\n",
    "        .order_by(desc(count()))\n",
    "    )\n",
    "    print(\"Query:\\n\", str(q), \"\\n\")\n",
    "    df = pd.DataFrame(\n",
    "        data=[\n",
    "            (\n",
    "                id,\n",
    "                f\"{first.title()} {last.title()}\",\n",
    "                num_accusations,\n",
    "                cpdp_officer_url(id),\n",
    "            )\n",
    "            for id, first, last, num_accusations in q\n",
    "        ],\n",
    "        columns=[\"id\", \"Officer Name\", \"Number of Accusations\", \"Source Link\"],\n",
    "    ).set_index(\"id\")\n",
    "\n",
    "\n",
    "display(HTML(df.iloc[:10].to_html(render_links=True)))\n"
   ]
  }
 ],
 "metadata": {
  "kernelspec": {
   "display_name": "Python 3.9.13 ('.pdt': venv)",
   "language": "python",
   "name": "python3"
  },
  "language_info": {
   "codemirror_mode": {
    "name": "ipython",
    "version": 3
   },
   "file_extension": ".py",
   "mimetype": "text/x-python",
   "name": "python",
   "nbconvert_exporter": "python",
   "pygments_lexer": "ipython3",
   "version": "3.9.13"
  },
  "vscode": {
   "interpreter": {
    "hash": "47c4521dfd0b677aadf842e1db7c0cfc67273c205cec7945eb2bb7409ec58d6a"
   }
  }
 },
 "nbformat": 4,
 "nbformat_minor": 2
}
